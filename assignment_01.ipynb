{
 "cells": [
  {
   "cell_type": "markdown",
   "id": "557328dd-caa1-4c0a-8952-cb9b96c5deac",
   "metadata": {},
   "source": [
    "Q1. Create one variable containing following type of data:\n",
    "(i) string\n",
    "(ii) list\n",
    "(iii) float\n",
    "(iv) tuple"
   ]
  },
  {
   "cell_type": "code",
   "execution_count": 1,
   "id": "aad89433-2b81-49fd-94ea-958ac537642f",
   "metadata": {},
   "outputs": [],
   "source": [
    "str = 'Hello World'\n",
    "list_01 = ['a', 'b', 'c', 2, 3, 4, True]\n",
    "num_01 = 10.764\n",
    "tuple_01 = (\"New Delhi\", \"Mumbai\", \"Kolkata\", \"Chennai\")"
   ]
  },
  {
   "cell_type": "markdown",
   "id": "fffe4a3c-2c48-4a35-9f20-b6d5505fe627",
   "metadata": {},
   "source": [
    "Q2. Given are some following variables containing data:\n",
    "(i) varl = ‘ ‘\n",
    "(ii) var2 = ‘[ DS , ML , Python]'\n",
    "(iii) var3 = [ ‘DS' , ‘ML’ , ‘Python’ ]\n",
    "(iv) var4 =1.\n",
    "What will be the data type of the above given variable.\n",
    "\n",
    "(i) string\n",
    "(ii) string\n",
    "(iii) list\n",
    "(iv) float"
   ]
  },
  {
   "cell_type": "markdown",
   "id": "7815bd31-ccdb-4a88-b433-df020b1341db",
   "metadata": {},
   "source": [
    "Q3. Explain the use of the following operators using an example:\n",
    "(i) /\n",
    "(ii) %\n",
    "(iii) //\n",
    "(iv) **\n",
    "\n",
    "(i) / is the Division operator \n",
    "Example:"
   ]
  },
  {
   "cell_type": "code",
   "execution_count": 3,
   "id": "db0d6bcc-a902-4276-bc1c-341382e9d52d",
   "metadata": {},
   "outputs": [
    {
     "name": "stdout",
     "output_type": "stream",
     "text": [
      "2.5\n"
     ]
    }
   ],
   "source": [
    "a = 5\n",
    "b = 2\n",
    "c = (a/b)\n",
    "print(c)"
   ]
  },
  {
   "cell_type": "markdown",
   "id": "874fbef8-da44-4b17-9201-d3663e3acc8e",
   "metadata": {},
   "source": [
    "(ii) % is the Modulus operator which returns the remainder number by dividing the first number from the second.\n",
    "Example:"
   ]
  },
  {
   "cell_type": "code",
   "execution_count": 5,
   "id": "6049a44e-ccaa-4a39-9e5a-84a00ec7882e",
   "metadata": {},
   "outputs": [
    {
     "name": "stdout",
     "output_type": "stream",
     "text": [
      "1\n"
     ]
    }
   ],
   "source": [
    "a = 7\n",
    "b = 3\n",
    "c = (a%b)\n",
    "print(c)"
   ]
  },
  {
   "cell_type": "markdown",
   "id": "d2f57dbf-9075-404b-8bc6-687d0d73017f",
   "metadata": {},
   "source": [
    "(iii) // is the Floor division operator. This operator will divide the first argument by the second and round the result down to the nearest whole number. Example:"
   ]
  },
  {
   "cell_type": "code",
   "execution_count": 6,
   "id": "1e429873-5532-47f2-a7f5-16079fe09f04",
   "metadata": {},
   "outputs": [
    {
     "name": "stdout",
     "output_type": "stream",
     "text": [
      "2\n"
     ]
    }
   ],
   "source": [
    "a = 7\n",
    "b = 3\n",
    "c = (a // b)\n",
    "print(c)"
   ]
  },
  {
   "cell_type": "markdown",
   "id": "815cbcb3-9182-40b5-9953-082b0fa1c648",
   "metadata": {},
   "source": [
    "(iv) ** is the Exponentiation operator. Example:"
   ]
  },
  {
   "cell_type": "code",
   "execution_count": 8,
   "id": "03f596db-516d-44a5-ba10-3093d2b2cc58",
   "metadata": {},
   "outputs": [
    {
     "name": "stdout",
     "output_type": "stream",
     "text": [
      "81\n"
     ]
    }
   ],
   "source": [
    "a = 3\n",
    "b = 4\n",
    "c = a**b\n",
    "print(c)"
   ]
  },
  {
   "cell_type": "markdown",
   "id": "49d6e79e-912c-4eb6-a7b9-7e221b848cf7",
   "metadata": {},
   "source": [
    "Q4. Create a list of length 10 of your choice containing multiple types of data. Using for loop print the\n",
    "element and its data type."
   ]
  },
  {
   "cell_type": "code",
   "execution_count": 9,
   "id": "2717ff82-7ed5-43e1-8b85-d8843d0ef9a4",
   "metadata": {},
   "outputs": [
    {
     "name": "stdout",
     "output_type": "stream",
     "text": [
      "1 - <class 'int'>\n",
      "3 - <class 'int'>\n",
      "5 - <class 'int'>\n",
      "7 - <class 'int'>\n",
      "a - <class 'str'>\n",
      "b - <class 'str'>\n",
      "c - <class 'str'>\n",
      "True - <class 'bool'>\n",
      "False - <class 'bool'>\n",
      "('Delhi', 'Mumbai') - <class 'tuple'>\n"
     ]
    }
   ],
   "source": [
    "list_01 = [1, 3, 5, 7, 'a', 'b', 'c', True, False, ('Delhi', 'Mumbai')]\n",
    "for item in list_01:\n",
    "    print(f\"{item} - {type(item)}\")"
   ]
  },
  {
   "cell_type": "markdown",
   "id": "44ced6dd-08e8-4581-ba45-9a0c7b2299f6",
   "metadata": {},
   "source": [
    "Q5. Using a while loop, verify if the number A is purely divisible by number B and if so then how many\n",
    "times it can be divisible."
   ]
  },
  {
   "cell_type": "code",
   "execution_count": 1,
   "id": "a9f919ae-275c-4f57-b05a-f3dc86653618",
   "metadata": {},
   "outputs": [
    {
     "name": "stdin",
     "output_type": "stream",
     "text": [
      "Enter an integer value for A:  16\n",
      "Enter an integer value for B:  4\n"
     ]
    },
    {
     "name": "stdout",
     "output_type": "stream",
     "text": [
      "A is purely divisible by B 4 times.\n"
     ]
    }
   ],
   "source": [
    "A = int(input(\"Enter an integer value for A: \"))\n",
    "B = int(input(\"Enter an integer value for B: \"))\n",
    "\n",
    "count = 0\n",
    "r = A%B\n",
    "\n",
    "while A >= B:\n",
    "    times = A // B\n",
    "    r = A%B\n",
    "    if r == 0:\n",
    "        print(f\"A is purely divisible by B {times} times.\")\n",
    "        break\n",
    "    else:\n",
    "        A = A/B\n",
    "\n",
    "if r != 0:\n",
    "    print(\"A is not purely divisible by B\")\n",
    "    "
   ]
  },
  {
   "cell_type": "markdown",
   "id": "005ffb00-9f70-4cfe-b4ae-75abd9b5e999",
   "metadata": {},
   "source": [
    "Q6. Create a list containing 25 int type data. Using for loop and if-else condition print if the element is\n",
    "divisible by 3 or not."
   ]
  },
  {
   "cell_type": "code",
   "execution_count": 9,
   "id": "e46d636f-f77d-43ea-893e-b496c71f029a",
   "metadata": {},
   "outputs": [
    {
     "name": "stdout",
     "output_type": "stream",
     "text": [
      "0 is not divisible by 3\n",
      "1 is not divisible by 3\n",
      "2 is not divisible by 3\n",
      "3 is divisible by 3\n",
      "4 is not divisible by 3\n",
      "5 is not divisible by 3\n",
      "6 is divisible by 3\n",
      "7 is not divisible by 3\n",
      "8 is not divisible by 3\n",
      "9 is divisible by 3\n",
      "10 is not divisible by 3\n",
      "11 is not divisible by 3\n",
      "12 is divisible by 3\n",
      "13 is not divisible by 3\n",
      "14 is not divisible by 3\n",
      "15 is divisible by 3\n",
      "16 is not divisible by 3\n",
      "17 is not divisible by 3\n",
      "18 is divisible by 3\n",
      "19 is not divisible by 3\n",
      "20 is not divisible by 3\n",
      "21 is divisible by 3\n",
      "22 is not divisible by 3\n",
      "23 is not divisible by 3\n",
      "24 is divisible by 3\n"
     ]
    }
   ],
   "source": [
    "a = []\n",
    "for i in range(0,25):\n",
    "    a.append(i)\n",
    "\n",
    "#print(a)\n",
    "for item in a:\n",
    "    #print(i)\n",
    "    if item%3 == 0 and (item/3) != 0:\n",
    "        print(f\"{item} is divisible by 3\")\n",
    "    else:\n",
    "        print(f\"{item} is not divisible by 3\")"
   ]
  },
  {
   "cell_type": "markdown",
   "id": "a281d53c-359b-4ec0-a43e-98c153a8a41d",
   "metadata": {},
   "source": [
    "Q7. What do you understand about mutable and immutable data types? Give examples for both showing\n",
    "this property."
   ]
  },
  {
   "cell_type": "markdown",
   "id": "3ee30214-2282-4050-a531-6a5b9ab737c5",
   "metadata": {},
   "source": [
    "An object / data type whose internal state can be changed is called a mutable object, while an object whose internal state cannot be changed is called an immutable object. The following are examples of immutable data types:\n",
    "Numbers, strings, tuples.\n",
    "\n",
    "The following are examples of mutable data types:\n",
    "Lists, Sets, Dictionaries.\n"
   ]
  }
 ],
 "metadata": {
  "kernelspec": {
   "display_name": "Python 3 (ipykernel)",
   "language": "python",
   "name": "python3"
  },
  "language_info": {
   "codemirror_mode": {
    "name": "ipython",
    "version": 3
   },
   "file_extension": ".py",
   "mimetype": "text/x-python",
   "name": "python",
   "nbconvert_exporter": "python",
   "pygments_lexer": "ipython3",
   "version": "3.10.8"
  }
 },
 "nbformat": 4,
 "nbformat_minor": 5
}
